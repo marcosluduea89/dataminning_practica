{
  "nbformat": 4,
  "nbformat_minor": 0,
  "metadata": {
    "colab": {
      "provenance": [],
      "include_colab_link": true
    },
    "kernelspec": {
      "name": "python3",
      "display_name": "Python 3"
    },
    "language_info": {
      "name": "python"
    }
  },
  "cells": [
    {
      "cell_type": "markdown",
      "metadata": {
        "id": "view-in-github",
        "colab_type": "text"
      },
      "source": [
        "<a href=\"https://colab.research.google.com/github/marcosluduea89/dataminning_practica/blob/main/Caso_2_Ludue%C3%B1a_Racco.ipynb\" target=\"_parent\"><img src=\"https://colab.research.google.com/assets/colab-badge.svg\" alt=\"Open In Colab\"/></a>"
      ]
    },
    {
      "cell_type": "markdown",
      "source": [
        "# Preparación del Entorno\n",
        "\n",
        "*   Importación de Librerias\n",
        "*   Importación de archivo de trabajo\n",
        "*   Tipo de datos y variables\n",
        "*   Datos Duplicados y Nulos\n",
        "\n",
        "\n",
        "\n",
        "\n",
        "\n"
      ],
      "metadata": {
        "id": "SjBknXwrdlJO"
      }
    },
    {
      "cell_type": "markdown",
      "source": [
        "## Importación de librerias y archivo de trabajo\n",
        "\n",
        "\n",
        "*   **Pandas**: Especializada en la manipulación y el análisis de datos.\n",
        "*   **Numpy**: Da soporte para crear vectores y matrices grandes.multidimensionales, junto con una gran colección de funciones matemáticas.\n",
        "*   **Seaborn**: Crea gráficos de alta calidad.\n",
        "*   **Matplotlib**: generación de gráficos en dos dimensiones, a partir de datos contenidos en listas o arrays.\n",
        "*   **Sklearn**:Biblioteca de aprendizaje automatico.\n",
        "*   **Scipy**:Se compone de herramientas y algoritmos matemáticos.\n",
        "*   **Plotly**: Visualización de datos interactiva que permite crear gráficos interactivos y dinámicos en Python, R y JavaScript.\n",
        "\n",
        "\n",
        "\n",
        "\n",
        "\n",
        "\n",
        "\n",
        "\n"
      ],
      "metadata": {
        "id": "SPRTJJ1Cz75W"
      }
    },
    {
      "cell_type": "markdown",
      "source": [
        "Librerias:"
      ],
      "metadata": {
        "id": "Y3MXZrfZ70pr"
      }
    },
    {
      "cell_type": "code",
      "source": [
        "import pandas as pd\n",
        "import numpy as np\n",
        "import seaborn as sns\n",
        "import matplotlib.pyplot as plt\n",
        "from sklearn.model_selection import train_test_split\n",
        "from sklearn.linear_model import LogisticRegression\n",
        "import scipy\n",
        "import plotly.graph_objects as go\n"
      ],
      "metadata": {
        "id": "VPzywsJL0KYB"
      },
      "execution_count": 5,
      "outputs": []
    },
    {
      "cell_type": "markdown",
      "source": [
        "Importacion de Archivo de trabajo churn.csv"
      ],
      "metadata": {
        "id": "xTCNXvnW7ySn"
      }
    },
    {
      "cell_type": "code",
      "source": [
        "import pandas as pd\n",
        "\n",
        "# Ruta al archivo CSV\n",
        "ruta_al_csv = 'https://raw.githubusercontent.com/marcosluduea89/dataminning_practica/main/Churn.csv'\n",
        "\n",
        "# Leer el archivo CSV y cargar los datos en un DataFrame de pandas\n",
        "df = pd.read_csv(ruta_al_csv, sep=';')  # o sep='\\t' para tabulación\n"
      ],
      "metadata": {
        "id": "b3HEBVkX79XF"
      },
      "execution_count": 31,
      "outputs": []
    },
    {
      "cell_type": "markdown",
      "source": [
        "## Datos y Variables"
      ],
      "metadata": {
        "id": "hzrDx-2X0bBq"
      }
    },
    {
      "cell_type": "code",
      "source": [
        "#visualizamos los primeros 5 registros\n",
        "print(df.head())"
      ],
      "metadata": {
        "id": "rzJELCf3JEDt",
        "colab": {
          "base_uri": "https://localhost:8080/"
        },
        "outputId": "d52b56f1-a0f0-4300-8c7b-b17deb483318"
      },
      "execution_count": 34,
      "outputs": [
        {
          "output_type": "stream",
          "name": "stdout",
          "text": [
            "  State  Account_Length  Area_Code     Phone Intl_Plan Vmail_Plan  \\\n",
            "0    KS             128        415  382-4657        no        yes   \n",
            "1    OH             107        415  371-7191        no        yes   \n",
            "2    NJ             137        415  358-1921        no         no   \n",
            "3    OH              84        408  375-9999       yes         no   \n",
            "4    OK              75        415  330-6626       yes         no   \n",
            "\n",
            "   Vmail_Message Day_Mins  Day_Calls Day_Charge  ... Eve_Calls  Eve_Charge  \\\n",
            "0             25    265,1        110      45,07  ...        99       16,78   \n",
            "1             26    161,6        123      27,47  ...       103       16,62   \n",
            "2              0    243,4        114      41,38  ...       110        10,3   \n",
            "3              0    299,4         71       50,9  ...        88        5,26   \n",
            "4              0    166,7        113      28,34  ...       122       12,61   \n",
            "\n",
            "  Night_Mins Night_Calls  Night_Charge Intl_Mins Intl_Calls  Intl_Charge  \\\n",
            "0      244,7          91         11,01        10          3          2,7   \n",
            "1      254,4         103         11,45      13,7          3          3,7   \n",
            "2      162,6         104          7,32      12,2          5         3,29   \n",
            "3      196,9          89          8,86       6,6          7         1,78   \n",
            "4      186,9         121          8,41      10,1          3         2,73   \n",
            "\n",
            "  CustServ_Calls   Churn  \n",
            "0              1  False.  \n",
            "1              1  False.  \n",
            "2              0  False.  \n",
            "3              2  False.  \n",
            "4              3  False.  \n",
            "\n",
            "[5 rows x 21 columns]\n"
          ]
        }
      ]
    },
    {
      "cell_type": "code",
      "source": [
        "# Observamos el tamaño del dataset\n",
        "print(f\"El dataset contiene {df.shape[0]} filas y {df.shape[1]} columnas\"\"\\n\")"
      ],
      "metadata": {
        "colab": {
          "base_uri": "https://localhost:8080/"
        },
        "id": "aUicIX_D5IEC",
        "outputId": "faaa83fe-104a-4eb0-bedb-39516f7eba4b"
      },
      "execution_count": 8,
      "outputs": [
        {
          "output_type": "stream",
          "name": "stdout",
          "text": [
            "El dataset contiene 3099 filas y 21 columnas\n"
          ]
        }
      ]
    },
    {
      "cell_type": "code",
      "source": [
        "#Observamos sus variables(tipos) y la cantidad\n",
        "print(f\"Contiene  {df.shape[1]} Variables \\n\")\n",
        "print(\"----------------------\")\n",
        "print(df.dtypes)\n",
        "print(\"----------------------\")"
      ],
      "metadata": {
        "colab": {
          "base_uri": "https://localhost:8080/"
        },
        "id": "gV03gOO7JsLP",
        "outputId": "e1fb2882-f93c-4801-cc14-36bf39b9ab35"
      },
      "execution_count": 28,
      "outputs": [
        {
          "output_type": "stream",
          "name": "stdout",
          "text": [
            "Contiene  21 Variables \n",
            "\n",
            "----------------------\n",
            "State             object\n",
            "Account_Length     int64\n",
            "Area_Code          int64\n",
            "Phone             object\n",
            "Intl_Plan         object\n",
            "Vmail_Plan        object\n",
            "Vmail_Message      int64\n",
            "Day_Mins          object\n",
            "Day_Calls          int64\n",
            "Day_Charge        object\n",
            "Eve_Mins          object\n",
            "Eve_Calls          int64\n",
            "Eve_Charge        object\n",
            "Night_Mins        object\n",
            "Night_Calls        int64\n",
            "Night_Charge      object\n",
            "Intl_Mins         object\n",
            "Intl_Calls         int64\n",
            "Intl_Charge       object\n",
            "CustServ_Calls     int64\n",
            "Churn             object\n",
            "dtype: object\n",
            "----------------------\n"
          ]
        }
      ]
    },
    {
      "cell_type": "markdown",
      "source": [
        "\n",
        "## Limpieza de datos\n",
        "\n"
      ],
      "metadata": {
        "id": "S7F5rMS4qykW"
      }
    },
    {
      "cell_type": "code",
      "source": [
        "# observamos las varibales numericas y categoricas y verificamos si corresponde su tipo de dato\n",
        "print(df.select_dtypes(include=['object']).head(3))"
      ],
      "metadata": {
        "id": "Vj77E_YNwlNZ",
        "colab": {
          "base_uri": "https://localhost:8080/"
        },
        "outputId": "aa9f10f3-d030-4979-981f-a6f3d863779f"
      },
      "execution_count": 35,
      "outputs": [
        {
          "output_type": "stream",
          "name": "stdout",
          "text": [
            "  State     Phone Intl_Plan Vmail_Plan Day_Mins Day_Charge Eve_Mins  \\\n",
            "0    KS  382-4657        no        yes    265,1      45,07    197,4   \n",
            "1    OH  371-7191        no        yes    161,6      27,47    195,5   \n",
            "2    NJ  358-1921        no         no    243,4      41,38    121,2   \n",
            "\n",
            "  Eve_Charge Night_Mins Night_Charge Intl_Mins Intl_Charge   Churn  \n",
            "0      16,78      244,7        11,01        10         2,7  False.  \n",
            "1      16,62      254,4        11,45      13,7         3,7  False.  \n",
            "2       10,3      162,6         7,32      12,2        3,29  False.  \n"
          ]
        }
      ]
    },
    {
      "cell_type": "markdown",
      "source": [
        "# Análisis Descriptivo Previo del Dataset\n",
        "\n",
        "*   Explore si hay valores faltantes en alguna de las variables.\n",
        "*   Compare los campos area code y state . Discuta cualquier aparente\n",
        "\n",
        "\n",
        "\n"
      ],
      "metadata": {
        "id": "whp-u4o9udmY"
      }
    },
    {
      "cell_type": "markdown",
      "source": [
        "# Observar las distribuciones de las variables\n"
      ],
      "metadata": {
        "id": "R5ApVfWJxBOU"
      }
    },
    {
      "cell_type": "markdown",
      "source": [
        "# Buscar y eliminar variables correlacionadas.\n",
        "\n"
      ],
      "metadata": {
        "id": "B-DvP-E5yduw"
      }
    },
    {
      "cell_type": "markdown",
      "source": [
        "# Analizar las proporciones de churn para distintas variables.\n"
      ],
      "metadata": {
        "id": "UdC-d3GHymdU"
      }
    },
    {
      "cell_type": "markdown",
      "source": [
        "# Particionar los datos.\n"
      ],
      "metadata": {
        "id": "L32AqwfYywpr"
      }
    },
    {
      "cell_type": "markdown",
      "source": [
        "# Generar tres modelos de árbol.\n"
      ],
      "metadata": {
        "id": "Rs5Ja8lGy7_M"
      }
    },
    {
      "cell_type": "markdown",
      "source": [
        "# Evaluar los modelos."
      ],
      "metadata": {
        "id": "iEcArgUVzIVH"
      }
    }
  ]
}